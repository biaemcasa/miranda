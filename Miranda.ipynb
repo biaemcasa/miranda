{
  "nbformat": 4,
  "nbformat_minor": 0,
  "metadata": {
    "colab": {
      "provenance": []
    },
    "kernelspec": {
      "name": "python3",
      "display_name": "Python 3"
    },
    "language_info": {
      "name": "python"
    }
  },
  "cells": [
    {
      "cell_type": "code",
      "source": [
        "%pip -q install google-genai"
      ],
      "metadata": {
        "id": "UCCbECexLk_h"
      },
      "execution_count": 1,
      "outputs": []
    },
    {
      "cell_type": "code",
      "source": [
        "# Configura a API Key do Google Gemini\n",
        "\n",
        "import os\n",
        "from google.colab import userdata\n",
        "\n",
        "os.environ[\"GOOGLE_API_KEY\"] = userdata.get('GOOGLE_API_KEY')"
      ],
      "metadata": {
        "id": "NfCqHo1tLk8P"
      },
      "execution_count": 2,
      "outputs": []
    },
    {
      "cell_type": "code",
      "source": [
        "# Configura o cliente da SDK do Gemini\n",
        "\n",
        "from google import genai\n",
        "\n",
        "client = genai.Client()\n",
        "\n",
        "MODEL_ID = \"gemini-2.0-flash\""
      ],
      "metadata": {
        "id": "bV4w0H5TLk5g"
      },
      "execution_count": 3,
      "outputs": []
    },
    {
      "cell_type": "code",
      "source": [
        "# Pergunta ao Gemini uma informação mais recente que seu conhecimento\n",
        "\n",
        "from IPython.display import HTML, Markdown\n",
        "\n",
        "# Perguntar pro modelo quando é a próxima imersão de IA ###############################################\n",
        "\n",
        "\n",
        "# Exibe a resposta na tela\n",
        "display(Markdown(f\"Resposta:\\n {resposta.text}\"))"
      ],
      "metadata": {
        "id": "HwVP7Xi34Zuw",
        "colab": {
          "base_uri": "https://localhost:8080/",
          "height": 176
        },
        "outputId": "bb1662b5-9456-4781-ad69-50f7b328c12e"
      },
      "execution_count": 4,
      "outputs": [
        {
          "output_type": "error",
          "ename": "NameError",
          "evalue": "name 'resposta' is not defined",
          "traceback": [
            "\u001b[0;31m---------------------------------------------------------------------------\u001b[0m",
            "\u001b[0;31mNameError\u001b[0m                                 Traceback (most recent call last)",
            "\u001b[0;32m<ipython-input-4-fcf770531a3e>\u001b[0m in \u001b[0;36m<cell line: 0>\u001b[0;34m()\u001b[0m\n\u001b[1;32m      7\u001b[0m \u001b[0;34m\u001b[0m\u001b[0m\n\u001b[1;32m      8\u001b[0m \u001b[0;31m# Exibe a resposta na tela\u001b[0m\u001b[0;34m\u001b[0m\u001b[0;34m\u001b[0m\u001b[0m\n\u001b[0;32m----> 9\u001b[0;31m \u001b[0mdisplay\u001b[0m\u001b[0;34m(\u001b[0m\u001b[0mMarkdown\u001b[0m\u001b[0;34m(\u001b[0m\u001b[0;34mf\"Resposta:\\n {resposta.text}\"\u001b[0m\u001b[0;34m)\u001b[0m\u001b[0;34m)\u001b[0m\u001b[0;34m\u001b[0m\u001b[0;34m\u001b[0m\u001b[0m\n\u001b[0m",
            "\u001b[0;31mNameError\u001b[0m: name 'resposta' is not defined"
          ]
        }
      ]
    },
    {
      "cell_type": "code",
      "source": [
        "# Pergunta ao Gemini uma informação utilizando a busca do Google como contexto\n",
        "\n",
        "response = client.models.generate_content(\n",
        "    model=MODEL_ID,\n",
        "    contents='Quando é a próxima Imersão IA com Google Gemini da Alura?',\n",
        "    config={\"tools\": [{\"google_search\": {}}]}\n",
        ")\n",
        "\n",
        "# Exibe a resposta na tela\n",
        "display(Markdown(f\"Resposta:\\n {response.text}\"))"
      ],
      "metadata": {
        "id": "yXaZd7iZ4ftw",
        "colab": {
          "base_uri": "https://localhost:8080/",
          "height": 98
        },
        "outputId": "8743899b-313b-4bf8-86fc-0b8c01efad41"
      },
      "execution_count": 8,
      "outputs": [
        {
          "output_type": "display_data",
          "data": {
            "text/plain": [
              "<IPython.core.display.Markdown object>"
            ],
            "text/markdown": "Resposta:\n A próxima Imersão IA com Google Gemini da Alura aconteceu entre os dias 12 e 16 de maio de 2025. As inscrições estiveram abertas até o dia 11 de maio. A imersão é um curso online e gratuito, voltado para profissionais de todas as áreas, mesmo sem conhecimento prévio. O curso ensina a usar o Google Gemini na prática, com aulas sobre como criar prompts eficazes, automatizar tarefas e desenvolver agentes autônomos. Ao final do curso, os participantes recebem um certificado da Alura em parceria com o Google."
          },
          "metadata": {}
        }
      ]
    },
    {
      "cell_type": "code",
      "source": [
        "# Exibe a busca\n",
        "print(f\"Busca realizada: {response.candidates[0].grounding_metadata.web_search_queries}\")\n",
        "# Exibe as URLs nas quais ele se baseou\n",
        "print(f\"Páginas utilizadas na resposta: {', '.join([site.web.title for site in response.candidates[0].grounding_metadata.grounding_chunks])}\")\n",
        "print()\n",
        "display(HTML(response.candidates[0].grounding_metadata.search_entry_point.rendered_content))"
      ],
      "metadata": {
        "id": "xHSNlTd84heJ",
        "colab": {
          "base_uri": "https://localhost:8080/",
          "height": 117
        },
        "outputId": "e8079fa3-7ed0-417c-b63c-8fa48e05800c"
      },
      "execution_count": 9,
      "outputs": [
        {
          "output_type": "stream",
          "name": "stdout",
          "text": [
            "Busca realizada: ['Próxima Imersão IA com Google Gemini Alura']\n",
            "Páginas utilizadas na resposta: starten.tech, youtube.com, alura.com.br\n",
            "\n"
          ]
        },
        {
          "output_type": "display_data",
          "data": {
            "text/plain": [
              "<IPython.core.display.HTML object>"
            ],
            "text/html": [
              "<style>\n",
              ".container {\n",
              "  align-items: center;\n",
              "  border-radius: 8px;\n",
              "  display: flex;\n",
              "  font-family: Google Sans, Roboto, sans-serif;\n",
              "  font-size: 14px;\n",
              "  line-height: 20px;\n",
              "  padding: 8px 12px;\n",
              "}\n",
              ".chip {\n",
              "  display: inline-block;\n",
              "  border: solid 1px;\n",
              "  border-radius: 16px;\n",
              "  min-width: 14px;\n",
              "  padding: 5px 16px;\n",
              "  text-align: center;\n",
              "  user-select: none;\n",
              "  margin: 0 8px;\n",
              "  -webkit-tap-highlight-color: transparent;\n",
              "}\n",
              ".carousel {\n",
              "  overflow: auto;\n",
              "  scrollbar-width: none;\n",
              "  white-space: nowrap;\n",
              "  margin-right: -12px;\n",
              "}\n",
              ".headline {\n",
              "  display: flex;\n",
              "  margin-right: 4px;\n",
              "}\n",
              ".gradient-container {\n",
              "  position: relative;\n",
              "}\n",
              ".gradient {\n",
              "  position: absolute;\n",
              "  transform: translate(3px, -9px);\n",
              "  height: 36px;\n",
              "  width: 9px;\n",
              "}\n",
              "@media (prefers-color-scheme: light) {\n",
              "  .container {\n",
              "    background-color: #fafafa;\n",
              "    box-shadow: 0 0 0 1px #0000000f;\n",
              "  }\n",
              "  .headline-label {\n",
              "    color: #1f1f1f;\n",
              "  }\n",
              "  .chip {\n",
              "    background-color: #ffffff;\n",
              "    border-color: #d2d2d2;\n",
              "    color: #5e5e5e;\n",
              "    text-decoration: none;\n",
              "  }\n",
              "  .chip:hover {\n",
              "    background-color: #f2f2f2;\n",
              "  }\n",
              "  .chip:focus {\n",
              "    background-color: #f2f2f2;\n",
              "  }\n",
              "  .chip:active {\n",
              "    background-color: #d8d8d8;\n",
              "    border-color: #b6b6b6;\n",
              "  }\n",
              "  .logo-dark {\n",
              "    display: none;\n",
              "  }\n",
              "  .gradient {\n",
              "    background: linear-gradient(90deg, #fafafa 15%, #fafafa00 100%);\n",
              "  }\n",
              "}\n",
              "@media (prefers-color-scheme: dark) {\n",
              "  .container {\n",
              "    background-color: #1f1f1f;\n",
              "    box-shadow: 0 0 0 1px #ffffff26;\n",
              "  }\n",
              "  .headline-label {\n",
              "    color: #fff;\n",
              "  }\n",
              "  .chip {\n",
              "    background-color: #2c2c2c;\n",
              "    border-color: #3c4043;\n",
              "    color: #fff;\n",
              "    text-decoration: none;\n",
              "  }\n",
              "  .chip:hover {\n",
              "    background-color: #353536;\n",
              "  }\n",
              "  .chip:focus {\n",
              "    background-color: #353536;\n",
              "  }\n",
              "  .chip:active {\n",
              "    background-color: #464849;\n",
              "    border-color: #53575b;\n",
              "  }\n",
              "  .logo-light {\n",
              "    display: none;\n",
              "  }\n",
              "  .gradient {\n",
              "    background: linear-gradient(90deg, #1f1f1f 15%, #1f1f1f00 100%);\n",
              "  }\n",
              "}\n",
              "</style>\n",
              "<div class=\"container\">\n",
              "  <div class=\"headline\">\n",
              "    <svg class=\"logo-light\" width=\"18\" height=\"18\" viewBox=\"9 9 35 35\" fill=\"none\" xmlns=\"http://www.w3.org/2000/svg\">\n",
              "      <path fill-rule=\"evenodd\" clip-rule=\"evenodd\" d=\"M42.8622 27.0064C42.8622 25.7839 42.7525 24.6084 42.5487 23.4799H26.3109V30.1568H35.5897C35.1821 32.3041 33.9596 34.1222 32.1258 35.3448V39.6864H37.7213C40.9814 36.677 42.8622 32.2571 42.8622 27.0064V27.0064Z\" fill=\"#4285F4\"/>\n",
              "      <path fill-rule=\"evenodd\" clip-rule=\"evenodd\" d=\"M26.3109 43.8555C30.9659 43.8555 34.8687 42.3195 37.7213 39.6863L32.1258 35.3447C30.5898 36.3792 28.6306 37.0061 26.3109 37.0061C21.8282 37.0061 18.0195 33.9811 16.6559 29.906H10.9194V34.3573C13.7563 39.9841 19.5712 43.8555 26.3109 43.8555V43.8555Z\" fill=\"#34A853\"/>\n",
              "      <path fill-rule=\"evenodd\" clip-rule=\"evenodd\" d=\"M16.6559 29.8904C16.3111 28.8559 16.1074 27.7588 16.1074 26.6146C16.1074 25.4704 16.3111 24.3733 16.6559 23.3388V18.8875H10.9194C9.74388 21.2072 9.06992 23.8247 9.06992 26.6146C9.06992 29.4045 9.74388 32.022 10.9194 34.3417L15.3864 30.8621L16.6559 29.8904V29.8904Z\" fill=\"#FBBC05\"/>\n",
              "      <path fill-rule=\"evenodd\" clip-rule=\"evenodd\" d=\"M26.3109 16.2386C28.85 16.2386 31.107 17.1164 32.9095 18.8091L37.8466 13.8719C34.853 11.082 30.9659 9.3736 26.3109 9.3736C19.5712 9.3736 13.7563 13.245 10.9194 18.8875L16.6559 23.3388C18.0195 19.2636 21.8282 16.2386 26.3109 16.2386V16.2386Z\" fill=\"#EA4335\"/>\n",
              "    </svg>\n",
              "    <svg class=\"logo-dark\" width=\"18\" height=\"18\" viewBox=\"0 0 48 48\" xmlns=\"http://www.w3.org/2000/svg\">\n",
              "      <circle cx=\"24\" cy=\"23\" fill=\"#FFF\" r=\"22\"/>\n",
              "      <path d=\"M33.76 34.26c2.75-2.56 4.49-6.37 4.49-11.26 0-.89-.08-1.84-.29-3H24.01v5.99h8.03c-.4 2.02-1.5 3.56-3.07 4.56v.75l3.91 2.97h.88z\" fill=\"#4285F4\"/>\n",
              "      <path d=\"M15.58 25.77A8.845 8.845 0 0 0 24 31.86c1.92 0 3.62-.46 4.97-1.31l4.79 3.71C31.14 36.7 27.65 38 24 38c-5.93 0-11.01-3.4-13.45-8.36l.17-1.01 4.06-2.85h.8z\" fill=\"#34A853\"/>\n",
              "      <path d=\"M15.59 20.21a8.864 8.864 0 0 0 0 5.58l-5.03 3.86c-.98-2-1.53-4.25-1.53-6.64 0-2.39.55-4.64 1.53-6.64l1-.22 3.81 2.98.22 1.08z\" fill=\"#FBBC05\"/>\n",
              "      <path d=\"M24 14.14c2.11 0 4.02.75 5.52 1.98l4.36-4.36C31.22 9.43 27.81 8 24 8c-5.93 0-11.01 3.4-13.45 8.36l5.03 3.85A8.86 8.86 0 0 1 24 14.14z\" fill=\"#EA4335\"/>\n",
              "    </svg>\n",
              "    <div class=\"gradient-container\"><div class=\"gradient\"></div></div>\n",
              "  </div>\n",
              "  <div class=\"carousel\">\n",
              "    <a class=\"chip\" href=\"https://vertexaisearch.cloud.google.com/grounding-api-redirect/AbF9wXETsvtpxf4DFRr0vozCHMFUydqwCW60kKSUnlaf_X_-PYPpJxHWMhHGlaR9icrt2rnPtNHl_36QnZtcE1L-5wV0oTr27qupfevmmfimszkbJaVqzHaifY51AMwRHOJX6meJNIWTv87tw9b2N1Ss6bq6VYj6vGmJEBXdcfJHlQFZWIxq-sfCoZkAb2l70lVpfUaB2fvdkLkln6dvh6HWqVaIsJyLWUmimDx_bTiptzLlQZq5llTxw5FE\">Próxima Imersão IA com Google Gemini Alura</a>\n",
              "  </div>\n",
              "</div>\n"
            ]
          },
          "metadata": {}
        }
      ]
    },
    {
      "cell_type": "code",
      "source": [
        "# Instalar Framework ADK de agentes do Google ################################################\n",
        "!pip install -q google-adk"
      ],
      "metadata": {
        "id": "hvZ3UnPI4jhJ",
        "colab": {
          "base_uri": "https://localhost:8080/"
        },
        "outputId": "94400061-77bd-44a7-c139-2c31253ec814"
      },
      "execution_count": 10,
      "outputs": [
        {
          "output_type": "stream",
          "name": "stdout",
          "text": [
            "\u001b[2K   \u001b[90m━━━━━━━━━━━━━━━━━━━━━━━━━━━━━━━━━━━━━━━━\u001b[0m \u001b[32m1.2/1.2 MB\u001b[0m \u001b[31m14.3 MB/s\u001b[0m eta \u001b[36m0:00:00\u001b[0m\n",
            "\u001b[2K   \u001b[90m━━━━━━━━━━━━━━━━━━━━━━━━━━━━━━━━━━━━━━━━\u001b[0m \u001b[32m232.1/232.1 kB\u001b[0m \u001b[31m12.2 MB/s\u001b[0m eta \u001b[36m0:00:00\u001b[0m\n",
            "\u001b[2K   \u001b[90m━━━━━━━━━━━━━━━━━━━━━━━━━━━━━━━━━━━━━━━━\u001b[0m \u001b[32m95.2/95.2 kB\u001b[0m \u001b[31m5.0 MB/s\u001b[0m eta \u001b[36m0:00:00\u001b[0m\n",
            "\u001b[2K   \u001b[90m━━━━━━━━━━━━━━━━━━━━━━━━━━━━━━━━━━━━━━━━\u001b[0m \u001b[32m217.1/217.1 kB\u001b[0m \u001b[31m10.0 MB/s\u001b[0m eta \u001b[36m0:00:00\u001b[0m\n",
            "\u001b[2K   \u001b[90m━━━━━━━━━━━━━━━━━━━━━━━━━━━━━━━━━━━━━━━━\u001b[0m \u001b[32m334.1/334.1 kB\u001b[0m \u001b[31m16.9 MB/s\u001b[0m eta \u001b[36m0:00:00\u001b[0m\n",
            "\u001b[2K   \u001b[90m━━━━━━━━━━━━━━━━━━━━━━━━━━━━━━━━━━━━━━━━\u001b[0m \u001b[32m125.1/125.1 kB\u001b[0m \u001b[31m7.4 MB/s\u001b[0m eta \u001b[36m0:00:00\u001b[0m\n",
            "\u001b[2K   \u001b[90m━━━━━━━━━━━━━━━━━━━━━━━━━━━━━━━━━━━━━━━━\u001b[0m \u001b[32m65.8/65.8 kB\u001b[0m \u001b[31m3.6 MB/s\u001b[0m eta \u001b[36m0:00:00\u001b[0m\n",
            "\u001b[2K   \u001b[90m━━━━━━━━━━━━━━━━━━━━━━━━━━━━━━━━━━━━━━━━\u001b[0m \u001b[32m119.0/119.0 kB\u001b[0m \u001b[31m5.9 MB/s\u001b[0m eta \u001b[36m0:00:00\u001b[0m\n",
            "\u001b[2K   \u001b[90m━━━━━━━━━━━━━━━━━━━━━━━━━━━━━━━━━━━━━━━━\u001b[0m \u001b[32m194.9/194.9 kB\u001b[0m \u001b[31m10.4 MB/s\u001b[0m eta \u001b[36m0:00:00\u001b[0m\n",
            "\u001b[2K   \u001b[90m━━━━━━━━━━━━━━━━━━━━━━━━━━━━━━━━━━━━━━━━\u001b[0m \u001b[32m62.5/62.5 kB\u001b[0m \u001b[31m3.5 MB/s\u001b[0m eta \u001b[36m0:00:00\u001b[0m\n",
            "\u001b[2K   \u001b[90m━━━━━━━━━━━━━━━━━━━━━━━━━━━━━━━━━━━━━━━━\u001b[0m \u001b[32m103.3/103.3 kB\u001b[0m \u001b[31m5.9 MB/s\u001b[0m eta \u001b[36m0:00:00\u001b[0m\n",
            "\u001b[2K   \u001b[90m━━━━━━━━━━━━━━━━━━━━━━━━━━━━━━━━━━━━━━━━\u001b[0m \u001b[32m44.4/44.4 kB\u001b[0m \u001b[31m2.2 MB/s\u001b[0m eta \u001b[36m0:00:00\u001b[0m\n",
            "\u001b[2K   \u001b[90m━━━━━━━━━━━━━━━━━━━━━━━━━━━━━━━━━━━━━━━━\u001b[0m \u001b[32m72.0/72.0 kB\u001b[0m \u001b[31m4.0 MB/s\u001b[0m eta \u001b[36m0:00:00\u001b[0m\n",
            "\u001b[?25h"
          ]
        }
      ]
    },
    {
      "cell_type": "code",
      "execution_count": 11,
      "metadata": {
        "id": "aePV2bdfDeoW"
      },
      "outputs": [],
      "source": [
        "from google.adk.agents import Agent\n",
        "from google.adk.runners import Runner\n",
        "from google.adk.sessions import InMemorySessionService\n",
        "from google.adk.tools import google_search\n",
        "from google.genai import types  # Para criar conteúdos (Content e Part)\n",
        "from datetime import date\n",
        "import textwrap # Para formatar melhor a saída de texto\n",
        "from IPython.display import display, Markdown # Para exibir texto formatado no Colab\n",
        "import requests # Para fazer requisições HTTP\n",
        "import warnings\n",
        "\n",
        "warnings.filterwarnings(\"ignore\")"
      ]
    },
    {
      "cell_type": "code",
      "source": [
        "# Função auxiliar que envia uma mensagem para um agente via Runner e retorna a resposta final\n",
        "def call_agent(agent: Agent, message_text: str) -> str:\n",
        "    # Cria um serviço de sessão em memória\n",
        "    session_service = InMemorySessionService()\n",
        "    # Cria uma nova sessão (você pode personalizar os IDs conforme necessário)\n",
        "    session = session_service.create_session(app_name=agent.name, user_id=\"user1\", session_id=\"session1\")\n",
        "    # Cria um Runner para o agente\n",
        "    runner = Runner(agent=agent, app_name=agent.name, session_service=session_service)\n",
        "    # Cria o conteúdo da mensagem de entrada\n",
        "    content = types.Content(role=\"user\", parts=[types.Part(text=message_text)])\n",
        "\n",
        "    final_response = \"\"\n",
        "    # Itera assincronamente pelos eventos retornados durante a execução do agente\n",
        "    for event in runner.run(user_id=\"user1\", session_id=\"session1\", new_message=content):\n",
        "        if event.is_final_response():\n",
        "          for part in event.content.parts:\n",
        "            if part.text is not None:\n",
        "              final_response += part.text\n",
        "              final_response += \"\\n\"\n",
        "    return final_response"
      ],
      "metadata": {
        "id": "_xP4lWhsS5ko"
      },
      "execution_count": 12,
      "outputs": []
    },
    {
      "cell_type": "code",
      "source": [
        "# Função auxiliar para exibir texto formatado em Markdown no Colab\n",
        "def to_markdown(text):\n",
        "  text = text.replace('•', '  *')\n",
        "  return Markdown(textwrap.indent(text, '> ', predicate=lambda _: True))"
      ],
      "metadata": {
        "id": "8dosiodaxfFR"
      },
      "execution_count": 25,
      "outputs": []
    },
    {
      "cell_type": "code",
      "source": [
        "##########################################\n",
        "# --- Agente 1: Buscador de Notícias --- #\n",
        "##########################################\n",
        "def agente_buscador(topico, data_de_hoje, links_produtos=None):\n",
        "  buscador = Agent(\n",
        "      name=\"agente_buscador\",\n",
        "      model=\"gemini-2.0-flash\",\n",
        "      description=\"Agente que busca informações no Google\",\n",
        "      tools=[google_search],\n",
        "      instruction=\"\"\"\n",
        "      Você é um assistente de pesquisa. A sua tarefa é usar a ferramenta do google (google_search)\n",
        "      para recueprar as últimas notícias de lançamentos muito relevantes sobre o tópico abaixo.\n",
        "      Se forem fornecidos links de produtos, use esses links como ponto de partida para entender\n",
        "      os produtos específicos do lojista e buscar notícias e informações relevantes sobre eles ou a categoria a que pertencem.\n",
        "      Foque em no máximo 5 lançamentos relevantes...\n",
        "      \"\"\"\n",
        "  )\n",
        "  entrada_do_agente_buscador = f\"Tópico: {topico}\\nData de hoje: {data_de_hoje}\"\n",
        "  if links_produtos:\n",
        "      entrada_do_agente_buscador += f\"\\nLinks de produtos de referência: {', '.join(links_produtos)}\"\n",
        "\n",
        "  lancamentos = call_agent(buscador, entrada_do_agente_buscador)\n",
        "  return lancamentos"
      ],
      "metadata": {
        "id": "o8bqIfi_DyH8"
      },
      "execution_count": 49,
      "outputs": []
    },
    {
      "cell_type": "code",
      "source": [
        "################################################\n",
        "# --- Agente 2: Planejador de posts --- #\n",
        "################################################\n",
        "def agente_planejador(topico, lancamentos_buscados):\n",
        "    planejador = Agent(\n",
        "        name=\"agente_planejador\",\n",
        "        model=\"gemini-2.0-flash\",\n",
        "        # Inserir as instruções do Agente Planejador #################################################\n",
        "        instruction=\"\"\"\n",
        "        Você é um planejador de conteúdos, especialista em criar posts para blogs de ecommerce.\n",
        "        Com base na lista de lançamentos mais recentes e relevantes buscados, você deve:\n",
        "        usar a ferramenta de busca do Google (google_search) para criar um plano sobre\n",
        "        quais são os pontos mais relevantes que poderíamos abordar em um texto de blog sobre cada um deles.\n",
        "        Você também pode usar o (google_search) para encontrar mais informações sobre os temas e aprofundar.\n",
        "        Ao final, você irá escolher o tema mais relevante entre eles com base nas suas pesquisas\n",
        "        e retornar esse tema, seus pontos mais relevantes, e um plano com os assuntos a serem\n",
        "        abordados no texto para blog que será escrito posteriormente.\n",
        "        \"\"\",\n",
        "        description=\"Agente que planeja posts\",\n",
        "        tools=[google_search]\n",
        "    )\n",
        "\n",
        "    entrada_do_agente_planejador = f\"Tópico:{topico}\\nLançamentos buscados: {lancamentos_buscados}\"\n",
        "    # Executa o agente\n",
        "    plano_do_post = call_agent(planejador, entrada_do_agente_planejador)\n",
        "    return plano_do_post"
      ],
      "metadata": {
        "id": "y3VO1uo5_ghO"
      },
      "execution_count": null,
      "outputs": []
    },
    {
      "cell_type": "code",
      "source": [
        "######################################\n",
        "# --- Agente 3: Redator do Post --- #\n",
        "######################################\n",
        "def agente_redator(topico, plano_de_post):\n",
        "    redator = Agent(\n",
        "        name=\"agente_redator\",\n",
        "        model=\"gemini-2.0-flash\",\n",
        "        instruction=\"\"\"\n",
        "            Você é um Redator Criativo especializado em criar posts virais para blogs de moda.\n",
        "            Você escreve posts para blogs de moda ligados a ecommerces. Utilize o tema fornecido no plano de post e os pontos mais relevantes\n",
        "            fornecidos e, com base nisso, escreva um rascunho de post para blog sobre o tema indicado.\n",
        "            O tamanho ideal para um texto de blog otimizado geralmente gira em torno de 1.500 a 2.000 palavras.\n",
        "            O post deve ser engajador, informativo, com linguagem simples e incluir 2 a 4 tags no final.\n",
        "            \"\"\",\n",
        "        description=\"Agente redator de posts engajadores para blogs de moda\"\n",
        "    )\n",
        "    entrada_do_agente_redator = f\"Tópico: {topico}\\nPlano de post: {plano_de_post}\"\n",
        "    # Executa o agente\n",
        "    rascunho = call_agent(redator, entrada_do_agente_redator)\n",
        "    return rascunho"
      ],
      "metadata": {
        "id": "uOqlg2TRLVh1"
      },
      "execution_count": 36,
      "outputs": []
    },
    {
      "cell_type": "code",
      "source": [
        "# %%\n",
        "############################################\n",
        "# --- Agente 5: Buscador de Imagens --- #\n",
        "############################################\n",
        "def agente_buscador_imagens(topico, rascunho_gerado):\n",
        "    buscador_imagens = Agent(\n",
        "        name=\"agente_buscador_imagens\",\n",
        "        model=\"gemini-2.0-flash\",\n",
        "        instruction=\"\"\"\n",
        "            Você é um buscador de imagens para posts de blog de moda.\n",
        "            Sua tarefa é usar a ferramenta de busca do Google (google_search) para encontrar imagens de alta qualidade\n",
        "            e relevantes para ilustrar um post de blog sobre o tópico e rascunho fornecidos.\n",
        "            Foque em encontrar imagens de sites e blogs de moda confiáveis.\n",
        "            Para cada imagem encontrada, forneça a URL da imagem e a URL da página onde ela foi encontrada.\n",
        "            Liste no máximo 5 imagens relevantes.\n",
        "            \"\"\",\n",
        "        description=\"Agente que busca imagens para posts de blog de moda\",\n",
        "        tools=[google_search] # Use a ferramenta de busca do Google\n",
        "    )\n",
        "    entrada_do_agente_buscador_imagens = f\"Tópico: {topico}\\nRascunho do post: {rascunho_gerado}\"\n",
        "    # Executa o agente\n",
        "    imagens_encontradas = call_agent(buscador_imagens, entrada_do_agente_buscador_imagens)\n",
        "    return imagens_encontradas\n"
      ],
      "metadata": {
        "id": "IdOZukH38a8F"
      },
      "execution_count": 40,
      "outputs": []
    },
    {
      "cell_type": "code",
      "source": [
        "##########################################\n",
        "# --- Agente 4: Revisor de Qualidade --- #\n",
        "##########################################\n",
        "def agente_revisor(topico, rascunho_gerado):\n",
        "    revisor = Agent(\n",
        "        name=\"agente_revisor\",\n",
        "        model=\"gemini-2.0-flash\",\n",
        "        instruction=\"\"\"\n",
        "            Você é um Editor e Revisor de Conteúdo meticuloso, especializado em posts virais para blogs de moda, orientados ao SEO do Google, com foco em blogs de moda.\n",
        "            Por ter um público jovem, entre 21 a 35 anos, use um tom de escrita adequado.\n",
        "            Revise o rascunho de post blogs de moda, orientados ao SEO do Google abaixo sobre o tópico indicado, verificando clareza, concisão, correção e tom.\n",
        "            Além disso, avalie o post com foco em SEO para o Google, considerando os seguintes aspectos:\n",
        "            - **Uso de Palavras-chave:** O rascunho utiliza palavras-chave relevantes para o tópico de forma natural no título, subtítulos e ao longo do texto? Sugira palavras-chave adicionais relevantes se necessário.\n",
        "            - **Estrutura do Conteúdo:** O texto está bem estruturado com títulos (H1, H2, H3) e parágrafos curtos para facilitar a leitura?\n",
        "            - **Links Internos e Externos:** O rascunho inclui oportunidades para links internos (para outros produtos ou posts do blog do ecommerce) e links externos (para fontes relevantes e confiáveis)? Sugira onde links podem ser adicionados.\n",
        "            - **Legibilidade:** O texto é fácil de ler para o público-alvo (linguagem simples, frases curtas)?\n",
        "            - **Otimização de Imagens (Alt Text):** Se as imagens fossem incluídas, o rascunho fornece contexto suficiente para gerar bons \"alt text\" (descrição da imagem) com palavras-chave relevantes? (O Agente 6 cuidará da inclusão, mas o Agente 4 pode avaliar a base no rascunho).\n",
        "            - **Intenção de Busca:** O conteúdo do post alinha-se com a provável intenção de busca do usuário ao procurar sobre o tópico?\n",
        "\n",
        "            Se o rascunho estiver ótimo e otimizado para SEO, responda apenas 'O rascunho está ótimo, otimizado para SEO e pronto para publicar!'.\n",
        "            Caso haja problemas de qualidade ou otimização para SEO, aponte-os de forma clara e sugira melhorias específicas para tornar o post mais forte para SEO.\n",
        "            \"\"\",\n",
        "        description=\"Agente revisor de post para blogs de moda, orientados ao SEO do Google.\"\n",
        "    )\n",
        "    entrada_do_agente_revisor = f\"Tópico: {topico}\\nRascunho: {rascunho_gerado}\"\n",
        "    # Executa o agente\n",
        "    texto_revisado = call_agent(revisor, entrada_do_agente_revisor)\n",
        "    return texto_revisado"
      ],
      "metadata": {
        "id": "_aTb1SdkLeT6"
      },
      "execution_count": 54,
      "outputs": []
    },
    {
      "cell_type": "code",
      "source": [
        "######################################################\n",
        "# --- Agente 6: Formatador de Post com Imagens --- #\n",
        "######################################################\n",
        "def agente_formatador_imagens(rascunho_gerado, imagens_encontradas):\n",
        "    formatador = Agent(\n",
        "        name=\"agente_formatador_imagens\",\n",
        "        model=\"gemini-2.0-flash\",\n",
        "        instruction=\"\"\"\n",
        "            Você é um formatador de posts de blog, especializado em moda.\n",
        "            Sua tarefa é pegar o rascunho do post e a lista de imagens encontradas e gerar o texto final do post,\n",
        "            incluindo o código de incorporação das imagens nos locais apropriados dentro do texto.\n",
        "\n",
        "            Formato de saída: Markdown. Use o seguinte formato para incorporar imagens:\n",
        "            ![Descrição da Imagem](URL_DA_IMAGEM)\n",
        "\n",
        "            Analise o texto do rascunho para identificar seções onde uma imagem seria relevante para ilustrar o conteúdo.\n",
        "            Para cada imagem na lista fornecida, tente encontrar um ponto relevante no texto para inseri-la.\n",
        "            Use o tópico da imagem ou o contexto do texto para gerar uma breve \"Descrição da Imagem\" (alt text).\n",
        "            Não insira todas as imagens se elas não parecerem relevantes para o texto. Foque naquelas que melhor complementam o conteúdo.\n",
        "            Posicione as imagens de forma que quebrem o texto de forma natural, talvez após um parágrafo relevante.\n",
        "            Inclua as tags originais do rascunho no final do post formatado.\n",
        "            \"\"\",\n",
        "        description=\"Agente que formata o post do blog, incluindo código de incorporação de imagens em Markdown.\"\n",
        "    )\n",
        "    entrada_do_agente_formatador = f\"Rascunho do Post:\\n{rascunho_gerado}\\n\\nImagens Encontradas:\\n{imagens_encontradas}\"\n",
        "    # Executa o agente\n",
        "    post_formatado = call_agent(formatador, entrada_do_agente_formatador)\n",
        "    return post_formatado"
      ],
      "metadata": {
        "id": "CZKD3XV7B1PN"
      },
      "execution_count": 51,
      "outputs": []
    },
    {
      "cell_type": "code",
      "source": [
        "data_de_hoje = date.today().strftime(\"%d/%m/%Y\")\n",
        "\n",
        "print(\" Iniciando o Sistema de Criação de Posts para blogs de moda, orientados ao SEO do Google \")\n",
        "\n",
        "# --- Obter o Tópico do Usuário ---\n",
        "topico = input(\"❓ Por favor, digite o TÓPICO sobre o qual você quer criar o próximo post do blog: \")\n",
        "\n",
        "# --- Obter os Links dos Produtos do Lojista (Novo) ---\n",
        "links_input = input(\"🔗 Opcional: Digite os links dos produtos do lojista (separados por vírgula): \")\n",
        "links_do_lojista = [link.strip() for link in links_input.split(',') if link.strip()] # Processa a string de links\n",
        "\n",
        "# Inserir lógica do sistema de agentes ################################################\n",
        "if not topico:\n",
        "  print(\"Você esqueceu de digitar o tópico!\")\n",
        "else:\n",
        "  print(f\"Maravilha! Vamos então criar o post sobre {topico}\")\n",
        "\n",
        "  # A chamada para o agente_buscador agora usará a lista links_do_lojista\n",
        "  lancamentos_buscados = agente_buscador(topico, data_de_hoje, links_produtos=links_do_lojista)\n",
        "  print(\"\\n--- Resultado do Agente 1 (Buscador) ---\\n\")\n",
        "  display(to_markdown(lancamentos_buscados))\n",
        "  print(\"-----------------------------------------------------\")\n",
        "\n",
        "  plano_de_post = agente_planejador(topico, lancamentos_buscados)\n",
        "  print(\"\\n--- Resultado do Agente 2 (Planejador) ---\\n\")\n",
        "  display(to_markdown(plano_de_post))\n",
        "  print(\"-----------------------------------------------------\")\n",
        "\n",
        "  rascunho_de_post = agente_redator(topico, plano_de_post)\n",
        "  print(\"\\n--- Resultado do Agente 3 (Redator) ---\\n\")\n",
        "  display(to_markdown(rascunho_de_post))\n",
        "\n",
        "  post_revisado = agente_revisor(topico, rascunho_de_post) # Renomeei para post_revisado para clareza\n",
        "  print(\"\\n--- Resultado do Agente 4 (Revisor) ---\\n\")\n",
        "  display(to_markdown(post_revisado))\n",
        "  print(\"-----------------------------------------------------\")\n",
        "\n",
        "  imagens_para_post = agente_buscador_imagens(topico, rascunho_de_post)\n",
        "  print(\"\\n--- Resultado do Agente 5 (Buscador de Imagens) ---\\n\")\n",
        "  display(to_markdown(imagens_para_post))\n",
        "  print(\"-----------------------------------------------------\")\n",
        "\n",
        "  # Chamar o novo Agente Formatador de Post com Imagens\n",
        "  post_final_formatado = agente_formatador_imagens(post_revisado, imagens_para_post)\n",
        "  print(\"\\n--- Resultado do Agente 6 (Formatador com Imagens) ---\\n\")\n",
        "  display(to_markdown(post_final_formatado))\n",
        "  print(\"-----------------------------------------------------\")"
      ],
      "metadata": {
        "id": "630ummxz4myx",
        "colab": {
          "base_uri": "https://localhost:8080/",
          "height": 1000
        },
        "outputId": "e52fc667-4b17-4b8f-a943-9ea198e691dc"
      },
      "execution_count": 53,
      "outputs": [
        {
          "output_type": "stream",
          "name": "stdout",
          "text": [
            " Iniciando o Sistema de Criação de Posts para blogs de moda, orientados ao SEO do Google \n",
            "❓ Por favor, digite o TÓPICO sobre o qual você quer criar o próximo post do blog: camisa listrada feminina\n",
            "🔗 Opcional: Digite os links dos produtos do lojista (separados por vírgula): https://www.lojatres.com.br/blusa-listrada-inv-listrado-rosa-17087072/p?property__Cor=LISTRADO%20ROSA\n",
            "Maravilha! Vamos então criar o post sobre camisa listrada feminina\n",
            "\n",
            "--- Resultado do Agente 1 (Buscador) ---\n",
            "\n"
          ]
        },
        {
          "output_type": "display_data",
          "data": {
            "text/plain": [
              "<IPython.core.display.Markdown object>"
            ],
            "text/markdown": "> Ok, estou procurando os lançamentos mais recentes e relevantes de camisas listradas femininas, com foco nas últimas notícias. Aqui estão as consultas que usarei:\n> \n> \n> Com certeza! Aqui estão algumas das tendências e lançamentos mais recentes em camisas listradas femininas, com foco em 2025:\n> \n> **Tendências Gerais:**\n> \n> *   **As listras são atemporais:** As camisas listradas continuam em alta, transitando do trabalho à praia, complementando o visual de forma sofisticada, autêntica e criativa.\n> *   **Versatilidade:**  Elas são perfeitas para looks formais e informais. As listras podem ser usadas em diversas peças, desde camisetas até vestidos, permitindo uma variedade infinita de combinações de estilo.\n> *   **Efeito visual:** Listras verticais alongam a silhueta, enquanto as horizontais podem adicionar volume.\n> *   **Mix de estampas:**  Listras combinam bem com outras padronagens como poá, xadrez ou floral.\n> *   **Estilo náutico:** O estilo náutico é um clássico, principalmente nas combinações de branco com azul.\n> \n> **Lançamentos e Novidades:**\n> \n> *   **Verão 2025:** Camisetas listradas em canelado premium. As listras ressurgem com força total, trazendo um toque de frescor e elegância.\n> *   **Inverno 2025:**  A roupa listrada (casacos, camisas, blusas e tricôs com listras horizontais) promete dominar o inverno. A camisa polo de manga longa é apontada como favorita.\n> *   **Cores:** Além das clássicas listras em preto e branco, ou branco e azul, as cores ganham espaço, como o verde, vermelho, rosa, e tons neutros.\n> *    **Modelos:** camisas cropped de manga longa com listras rosas e brancas, com textura frizadinha, bolsos frontais, fechamento em botões e gola blazer.\n> *   **Tecidos:** Sedinha, malha de algodão, tricot modal, viscose.\n> \n> **Como usar:**\n> \n> *   **Casual:** Jeans, shorts ou saias, tênis ou sandálias rasteirinhas.\n> *   **Moderno:** Calças de cintura alta.\n> *   **Formal:** Calças de alfaiataria.\n> \n> Se você busca inspiração, o Pinterest é uma ótima fonte de ideias de looks com blusas listradas.\n"
          },
          "metadata": {}
        },
        {
          "output_type": "stream",
          "name": "stdout",
          "text": [
            "-----------------------------------------------------\n",
            "\n",
            "--- Resultado do Agente 2 (Planejador) ---\n",
            "\n"
          ]
        },
        {
          "output_type": "display_data",
          "data": {
            "text/plain": [
              "<IPython.core.display.Markdown object>"
            ],
            "text/markdown": "> Com base nas tendências e lançamentos mais recentes de camisas listradas femininas, podemos criar um plano de conteúdo para um blog de e-commerce abordando os seguintes pontos:\n> \n> **Possíveis temas para abordar:**\n> \n> 1.  **A Atemporalidade das Listras:** Explorar como as listras permanecem em alta, adaptando-se a diferentes estações e estilos.\n> 2.  **Versatilidade das Camisas Listradas:** Detalhar como as listras podem ser incorporadas em looks formais e informais, e como combinar diferentes peças.\n> 3.  **O Impacto Visual das Listras:** Analisar como as listras verticais e horizontais afetam a silhueta, e como usar isso a favor do seu corpo.\n> 4.  **Mix de Estampas com Listras:** Oferecer dicas de como combinar listras com outras estampas, como poá, xadrez ou floral.\n> 5.  **Estilo Náutico e as Listras:** Mergulhar no clássico estilo náutico, explorando as combinações de branco com azul e outras variações.\n> 6.  **Tendências de Camisas Listradas para o Verão 2025:** Destacar as camisetas listradas em canelado premium, cores vibrantes e modelos cropped.\n> 7.  **Camisas Listradas no Inverno 2025:** Analisar como as listras horizontais dominam o inverno, com foco em casacos, camisas, blusas e tricôs, e a popularidade da camisa polo de manga longa.\n> 8.  **As Cores em Alta nas Listras:** Explorar as cores que ganham espaço nas listras, como verde, vermelho, rosa e tons neutros, além das combinações clássicas.\n> 9.  **Modelos de Camisas Listradas:** Apresentar os modelos mais recentes, como camisas cropped de manga longa com listras rosas e brancas, com textura frizadinha e gola blazer.\n> 10. **Tecidos Ideais para Camisas Listradas:** Indicar os tecidos mais populares para camisas listradas, como sedinha, malha de algodão, tricot modal e viscose.\n> 11. **Como Usar Camisas Listradas em Looks Casuais:** Sugerir combinações com jeans, shorts ou saias, tênis ou sandálias rasteirinhas.\n> 12. **Camisas Listradas em Looks Modernos:** Propor combinações com calças de cintura alta e outras peças de tendência.\n> 13. **Camisas Listradas em Looks Formais:** Apresentar combinações com calças de alfaiataria e outras peças elegantes.\n> \n> **Escolha do tema mais relevante:**\n> \n> Entre os temas listados, o mais relevante é: **Tendências de Camisas Listradas para o Verão/Inverno 2025**. Este tema permite abordar as novidades mais recentes, as cores em alta, os modelos em destaque e os tecidos ideais para a estação.\n> \n> **Plano para o texto do blog:**\n> \n> 1.  **Introdução:**\n>     *   Apresentar as camisas listradas como um item atemporal e versátil no guarda-roupa feminino.\n>     *   Destacar a relevância das listras nas coleções de Verão e Inverno 2025.\n> 2.  **Tendências de Camisas Listradas para o Verão 2025:**\n>     *   Mencionar as camisetas listradas em canelado premium.\n>     *   Explorar as cores vibrantes e combinações inusitadas.\n>     *   Apresentar os modelos cropped e outras variações modernas.\n> 3.  **Tendências de Camisas Listradas para o Inverno 2025:**\n>     *   Analisar como as listras horizontais dominam o inverno.\n>     *   Destacar a popularidade de casacos, camisas, blusas e tricôs com listras.\n>     *   Mencionar a camisa polo de manga longa como favorita.\n> 4.  **Cores e Tecidos em Destaque:**\n>     *   Explorar as cores que ganham espaço nas listras, como verde, vermelho, rosa e tons neutros.\n>     *   Indicar os tecidos mais populares para camisas listradas, como sedinha, malha de algodão, tricot modal e viscose.\n> 5.  **Como Usar Camisas Listradas em Diferentes Ocasiões:**\n>     *   Apresentar sugestões de looks casuais, modernos e formais.\n>     *   Oferecer dicas de como combinar as listras com outras peças e acessórios.\n> 6.  **Conclusão:**\n>     *   Reforçar a versatilidade e atemporalidade das camisas listradas.\n>     *   Incentivar os leitores a explorarem as diferentes tendências e estilos.\n> \n> Para aprofundar a pesquisa e enriquecer o conteúdo do blog, utilizarei as seguintes pesquisas no Google:\n> \n> \n> Com base nas informações coletadas e nos resultados da pesquisa, o plano de conteúdo detalhado para o tema \"Tendências de Camisas Listradas para o Verão/Inverno 2025\" é:\n> \n> **Título:** Camisas Listradas: As Tendências Imperdíveis para o Verão e Inverno 2025\n> \n> **Introdução:**\n> \n> *   Apresentar as camisas listradas como um clássico atemporal e versátil, capaz de se adaptar a diferentes estilos e ocasiões.\n> *   Destacar a relevância das listras nas coleções de Verão e Inverno 2025, mostrando como essa estampa se reinventa a cada temporada.\n> *   Mencionar que as listras migram facilmente entre estilos, funcionando tanto em peças casuais quanto sofisticadas.\n> \n> **Tendências de Camisas Listradas para o Verão 2025:**\n> \n> *   Listras repaginadas e cheias de atitude, aparecendo em proporções maiores e cores vibrantes como vermelho, azul e amarelo.\n> *   Estilo náutico revisitado com um toque moderno, ideal para quem busca um equilíbrio entre o casual e o chic.\n> *   Cores marcantes que atualizam a estética navy, trazendo frescor e personalidade aos looks.\n> *   Apresentar opções de bolsas listradas.\n> *   Camisas com listras em cores intensas e contrastantes, criando um visual cheio de personalidade e frescor. Tons quentes, pastel e combinações inusitadas estão em alta, trazendo modernidade à clássica padronagem.\n> \n> **Tendências de Camisas Listradas para o Inverno 2025:**\n> \n> *   Dominância das listras horizontais em casacos, camisas, blusas e tricôs, indicando que essa estampa será um sucesso no frio.\n> *   Camisa polo de manga longa como peça-chave da estação, sendo a favorita entre as fashionistas.\n> *   Apresentar looks com a estampa clássica combinada com vermelho, criando um combo de tendências para o inverno.\n> \n> **Cores e Tecidos em Destaque:**\n> \n> *   Cores que ganham espaço nas listras, como verde, vermelho, rosa e tons neutros, além das combinações clássicas.\n> *   Tecidos mais populares para camisas listradas, como sedinha, malha de algodão, tricot modal e viscose.\n> *   Para 2025, apostar em listras mais ousadas e diversificadas, variando em largura, direção e assimetria.\n> *   Novas combinações de cores, como tons pastel e neon em formatos irregulares, para looks modernos e divertidos.\n> \n> **Como Usar Camisas Listradas em Diferentes Ocasiões:**\n> \n> *   Looks casuais: combinações com jeans, shorts ou saias, tênis ou sandálias rasteirinhas.\n> *   Looks modernos: propostas com calças de cintura alta e outras peças de tendência.\n> *   Looks formais: sugestões com calças de alfaiataria e outras peças elegantes.\n> *   Terceira peça: usar a camisa como terceira peça para dar um destaque no look.\n> \n> **Dicas Extras:**\n> \n> *   Truques de styling: usar a camisa por dentro para alongar a silhueta, dobrar as mangas para mostrar um pouco de pele.\n> *   Acessórios: combinar os acessórios com os detalhes da camisa, como os metais dourados.\n> \n> **Conclusão:**\n> \n> *   Reafirmar a versatilidade e atemporalidade das camisas listradas, incentivando os leitores a explorarem as diferentes tendências e estilos.\n> *   Incentivar os leitores a compartilhar suas próprias combinações e looks com camisas listradas.\n> \n> Com este plano detalhado, o blog post terá informações relevantes, atualizadas e dicas práticas para inspirar os leitores a incorporarem as camisas listradas em seus guarda-roupas com muito estilo e personalidade.\n> \n"
          },
          "metadata": {}
        },
        {
          "output_type": "stream",
          "name": "stdout",
          "text": [
            "-----------------------------------------------------\n",
            "\n",
            "--- Resultado do Agente 3 (Redator) ---\n",
            "\n"
          ]
        },
        {
          "output_type": "display_data",
          "data": {
            "text/plain": [
              "<IPython.core.display.Markdown object>"
            ],
            "text/markdown": "> ## Camisas Listradas: As Tendências Imperdíveis para o Verão e Inverno 2025\n> \n> As **camisas listradas** são um daqueles itens no guarda-roupa feminino que transcendem tendências passageiras. Clássicas, versáteis e com um poder incrível de se adaptar a diferentes estilos, elas se reinventam a cada temporada, marcando presença tanto nos looks de verão quanto nos de inverno. Em 2025, prepare-se para ver as listras repaginadas, cheias de atitude e prontas para dominar o mundo da moda!\n> \n> ### A Atemporalidade das Listras: Um Clássico que Se Reinventa\n> \n> As listras são como um camaleão fashion: migram facilmente entre estilos, funcionando tanto em peças casuais quanto sofisticadas. Seja para um passeio no parque, um dia de trabalho ou um evento especial, a camisa listrada é uma escolha certeira que nunca sai de moda. E em 2025, essa versatilidade estará ainda mais evidente.\n> \n> ### Verão 2025: Listras Repaginadas e Cheias de Atitude\n> \n> Para o verão de 2025, as listras chegam com uma nova roupagem, prontas para injetar mais personalidade e estilo nos seus looks. Esqueça as combinações óbvias e prepare-se para:\n> \n> *   **Proporções Maiores e Cores Vibrantes:** As listras ganham destaque com tamanhos maiores e cores intensas como vermelho, azul e amarelo. Essa combinação traz um toque moderno e divertido para a estampa clássica.\n> *   **Estilo Náutico Moderno:** O clássico estilo náutico é revisitado com um toque contemporâneo. Ideal para quem busca um equilíbrio entre o casual e o chic, essa tendência aposta em listras com cores marcantes que atualizam a estética navy, trazendo frescor e personalidade aos looks.\n> *   **Bolsas Listradas:** Para completar o look, aposte em bolsas listradas que seguem a mesma paleta de cores vibrantes das camisas. Elas são o acessório perfeito para dar um toque final de estilo e sofisticação.\n> *   **Cores Intensas e Contrastantes:** As camisas com listras em cores intensas e contrastantes criam um visual cheio de personalidade e frescor. Tons quentes, pastel e combinações inusitadas estão em alta, trazendo modernidade à clássica padronagem.\n> \n> ### Inverno 2025: Listras Horizontais e a Elegância do Tricô\n> \n> Se você pensa que as listras são exclusivas do verão, prepare-se para mudar de ideia! No inverno de 2025, elas ganham ainda mais destaque, provando que são um verdadeiro curinga fashion. As principais tendências para a estação mais fria do ano incluem:\n> \n> *   **Dominância das Listras Horizontais:** Casacos, camisas, blusas e tricôs com listras horizontais serão a sensação do inverno. Essa estampa clássica é perfeita para aquecer os looks com muito estilo e elegância.\n> *   **Camisa Polo de Manga Longa:** A camisa polo de manga longa é a peça-chave da estação, sendo a favorita entre as fashionistas. Combine-a com calças de couro, saias de lã ou jeans para um look moderno e sofisticado.\n> *   **Listras e Vermelho:** A combinação da estampa clássica com o vermelho é um combo de tendências para o inverno. Use peças listradas com detalhes em vermelho ou aposte em um look total com essas duas tendências para arrasar!\n> \n> ### Cores e Tecidos em Destaque: O Segredo para um Look Moderno\n> \n> Para 2025, a dica é apostar em listras mais ousadas e diversificadas, variando em largura, direção e assimetria. As novas combinações de cores, como tons pastel e neon em formatos irregulares, trazem um toque moderno e divertido para os looks. Além disso, os tecidos também ganham destaque, com opções como:\n> \n> *   **Sedinha:** Leve, fluida e com um toque sofisticado, a sedinha é perfeita para os dias mais quentes.\n> *   **Malha de Algodão:** Confortável e versátil, a malha de algodão é ideal para looks casuais e despojados.\n> *   **Tricot Modal:** Macio e quentinho, o tricot modal é perfeito para os dias mais frios, garantindo conforto e estilo.\n> *   **Viscose:** Fresca e com um caimento impecável, a viscose é uma ótima opção para looks elegantes e confortáveis.\n> \n> ### Como Usar Camisas Listradas em Diferentes Ocasiões: Dicas de Styling\n> \n> A versatilidade das camisas listradas permite criar looks incríveis para diversas ocasiões. Confira algumas dicas de styling para arrasar em qualquer situação:\n> \n> *   **Looks Casuais:** Combine sua camisa listrada com jeans, shorts ou saias, tênis ou sandálias rasteirinhas. Essa combinação é perfeita para um passeio no parque, um almoço com as amigas ou um dia de compras.\n> *   **Looks Modernos:** Para um visual mais fashionista, aposte em calças de cintura alta, jaquetas de couro e acessórios statement. Essa combinação é ideal para um jantar especial, uma festa ou um evento de moda.\n> *   **Looks Formais:** Se você precisa de um look elegante para o trabalho ou um evento social, combine sua camisa listrada com calças de alfaiataria, saias lápis e blazers. Complete o visual com scarpins ou sandálias de salto alto para um toque de sofisticação.\n> *   **Terceira Peça:** Use a camisa listrada como terceira peça para dar um toque de estilo ao seu look. Jogue-a sobre um vestido, combine-a com um macacão ou use-a como um cardigan.\n> \n> ### Truques de Styling e Acessórios: Detalhes que Fazem a Diferença\n> \n> Para valorizar ainda mais o seu look com camisa listrada, confira algumas dicas extras:\n> \n> *   **Truques de Styling:** Use a camisa por dentro para alongar a silhueta, dobre as mangas para mostrar um pouco de pele e crie nós para um visual mais despojado.\n> *   **Acessórios:** Combine os acessórios com os detalhes da camisa, como os metais dourados. Use cintos para marcar a cintura, lenços para dar um toque de cor e bolsas que complementem o look.\n> \n> ### Conclusão: Invista nas Camisas Listradas e Arrase em 2025!\n> \n> As camisas listradas são um investimento certeiro para o seu guarda-roupa. Versátil, atemporal e cheia de estilo, essa peça é perfeita para criar looks incríveis em todas as estações. Explore as diferentes tendências e estilos, experimente novas combinações e descubra o poder das listras para valorizar a sua beleza e personalidade.\n> \n> E você, qual é a sua combinação favorita com camisas listradas? Compartilhe suas dicas e looks nos comentários e inspire outras fashionistas a arrasarem em 2025!\n> \n> **Tags:** #camisaslistradas #tendencias2025 #moda #estilo #verão2025 #inverno2025\n> \n"
          },
          "metadata": {}
        },
        {
          "output_type": "stream",
          "name": "stdout",
          "text": [
            "\n",
            "--- Resultado do Agente 4 (Revisor) ---\n",
            "\n"
          ]
        },
        {
          "output_type": "display_data",
          "data": {
            "text/plain": [
              "<IPython.core.display.Markdown object>"
            ],
            "text/markdown": "> O rascunho está ótimo e pronto para publicar!\n"
          },
          "metadata": {}
        },
        {
          "output_type": "stream",
          "name": "stdout",
          "text": [
            "-----------------------------------------------------\n",
            "\n",
            "--- Resultado do Agente 5 (Buscador de Imagens) ---\n",
            "\n"
          ]
        },
        {
          "output_type": "display_data",
          "data": {
            "text/plain": [
              "<IPython.core.display.Markdown object>"
            ],
            "text/markdown": "> Okay, aqui estão algumas imagens de camisas listradas femininas que podem ser usadas para ilustrar um post de blog sobre tendências de camisas listradas em 2025.\n> \n> \n> Com base nas minhas buscas, aqui estão algumas opções de imagens que podem ser relevantes para o seu post:\n> \n> 1.  **Combinação com saia:** Uma mulher usando uma camisa listrada com uma saia de tecido natural, como linho, ou uma saia jeans.\n>     *   URL da imagem: Não foi possível encontrar uma URL direta para a imagem.\n>     *   URL da página: [https://vertexaisearch.cloud.google.com/grounding-api-redirect/AbF9wXG2Q9nDdP2HsZDFDJpAdH44GwTsNMtCwdWR6eE2G-YVjgrUbmn7d1oAvnHUAS1dnV19wSlnQHXZM5oY37jkJY3EtDRmlJl1IKJoNfQZ2WrC5eD79jhbUgpuAilWofgyJpdXER8BL0OtxRufd4Zhq7mp](https://vertexaisearch.cloud.google.com/grounding-api-redirect/AbF9wXG2Q9nDdP2HsZDFDJpAdH44GwTsNMtCwdWR6eE2G-YVjgrUbmn7d1oAvnHUAS1dnV19wSlnQHXZM5oY37jkJY3EtDRmlJl1IKJoNfQZ2WrC5eD79jhbUgpuAilWofgyJpdXER8BL0OtxRufd4Zhq7mp)\n> 2.  **Camisa listrada com calça de alfaiataria:** Uma combinação perfeita para ambientes de trabalho, onde a camisa listrada é combinada com uma calça de alfaiataria. Para um toque mais informal, pode-se adicionar tênis.\n>     *   URL da imagem: Não foi possível encontrar uma URL direta para a imagem.\n>     *   URL da página: [https://vertexaisearch.cloud.google.com/grounding-api-redirect/AbF9wXG2Q9nDdP2HsZDFDJpAdH44GwTsNMtCwdWR6eE2G-YVjgrUbmn7d1oAvnHUAS1dnV19wSlnQHXZM5oY37jkJY3EtDRmlJl1IKJoNfQZ2WrC5eD79jhbUgpuAilWofgyJpdXER8BL0OtxRufd4Zhq7mp](https://vertexaisearch.cloud.google.com/grounding-api-redirect/AbF9wXG2Q9nDdP2HsZDFDJpAdH44GwTsNMtCwdWR6eE2G-YVjgrUbmn7d1oAvnHUAS1dnV19wSlnQHXZM5oY37jkJY3EtDRmlJl1IKJoNfQZ2WrC5eD79jhbUgpuAilWofgyJpdXER8BL0OtxRufd4Zhq7mp)\n> 3.  **Camisas listradas com cores vibrantes:** Imagens de camisas listradas que incorporam cores vibrantes e até a mistura de listras com outros padrões e texturas.\n>     *   URL da imagem: Não foi possível encontrar uma URL direta para a imagem.\n>     *   URL da página: [https://vertexaisearch.cloud.google.com/grounding-api-redirect/AbF9wXEBIEapIHiP3fQ6LIo8iXH1M-1FrzlUTMRUUv8dKOlltMc5L_KRy0sX0-D4qLmDH8CJ2daqkDMYTCS_lNq7kx-zOUJg1Br2-fgf_Cwa_VjJo50A7ZnAyTBHYdnpXi4N4dGiVv4yiD0bus-I63mLbtuiZ5U5_xJEzmXSXXQJ7qIttmNtFATLdlt3XGZWE1s_Mmkj3B9S0gYsuxkZHg==](https://vertexaisearch.cloud.google.com/grounding-api-redirect/AbF9wXEBIEapIHiP3fQ6LIo8iXH1M-1FrzlUTMRUUv8dKOlltMc5L_KRy0sX0-D4qLmDH8CJ2daqkDMYTCS_lNq7kx-zOUJg1Br2-fgf_Cwa_VjJo50A7ZnAyTBHYdnpXi4N4dGiVv4yiD0bus-I63mLbtuiZ5U5_xJEzmXSXXQJ7qIttmNtFATLdlt3XGZWE1s_Mmkj3B9S0gYsuxkZHg==)\n> 4.  **Looks românticos com bata listrada:** Uma bata listrada com amarração e laços combinada com bermuda de alfaiataria e boné.\n>     *   URL da imagem: Não foi possível encontrar uma URL direta para a imagem.\n>     *   URL da página: [https://vertexaisearch.cloud.google.com/grounding-api-redirect/AbF9wXEB1K8JWhngTv-OXAZxjPmPhbBpxyO9nlBcBRjOZurLr_R6aRjEibhZLsVLxNx9WhpFxTUC925ycxwLcXciD66CciPoKiyyqi3ZtP2lYiBEtseo1gxECcDFj9iDoi5k-l0xF_YGF7mesYWfMKAn6mPuQL5O3bYCmKtE4XIQpPP08_yuPNcnYCQ=](https://vertexaisearch.cloud.google.com/grounding-api-redirect/AbF9wXEB1K8JWhngTv-OXAZxjPmPhbBpxyO9nlBcBRjOZurLr_R6aRjEibhZLsVLxNx9WhpFxTUC925ycxwLcXciD66CciPoKiyyqi3ZtP2lYiBEtseo1gxECcDFj9iDoi5k-l0xF_YGF7mesYWfMKAn6mPuQL5O3bYCmKtE4XIQpPP08_yuPNcnYCQ=)\n> 5.  **Camisa listrada azul:** Imagens de camisas listradas azuis, que podem ser combinadas de diversas formas, desde looks corporativos modernos até looks casuais e descontraídos.\n>     *   URL da imagem: Não foi possível encontrar uma URL direta para a imagem.\n>     *   URL da página: [https://vertexaisearch.cloud.google.com/grounding-api-redirect/AbF9wXFXEVN5zAcCIUrkGQqqfKyPUB37s7sty_MjJAF3pi56oU6Aqlapgr0rHEi21-Ic0D_Ecag0P_hdEzeSFnkT1pB__2ICDzuCZZhtoRKq1_EDjcI7VcgYtGwC48PrUun9N24va9N2748i2lb4Piro5zcfq5LQYzbi6Txp5jOO-tvW25irAEyYha2ydq0YyrdJnHYJZoDLwJHuNulV](https://vertexaisearch.cloud.google.com/grounding-api-redirect/AbF9wXFXEVN5zAcCIUrkGQqqfKyPUB37s7sty_MjJAF3pi56oU6Aqlapgr0rHEi21-Ic0D_Ecag0P_hdEzeSFnkT1pB__2ICDzuCZZhtoRKq1_EDjcI7VcgYtGwC48PrUun9N24va9N2748i2lb4Piro5zcfq5LQYzbi6Txp5jOO-tvW25irAEyYha2ydq0YyrdJnHYJZoDLwJHuNulV)\n> \n> Espero que estas sugestões sejam úteis para o seu post!\n"
          },
          "metadata": {}
        },
        {
          "output_type": "stream",
          "name": "stdout",
          "text": [
            "-----------------------------------------------------\n",
            "\n",
            "--- Resultado do Agente 6 (Formatador com Imagens) ---\n",
            "\n"
          ]
        },
        {
          "output_type": "display_data",
          "data": {
            "text/plain": [
              "<IPython.core.display.Markdown object>"
            ],
            "text/markdown": "> O rascunho está ótimo e pronto para publicar!\n> \n> Looks com camisa listrada azul podem ser combinadas de diversas formas, desde looks corporativos modernos até looks casuais e descontraídos.\n> \n> ![Camisa listrada azul](https://vertexaisearch.cloud.google.com/grounding-api-redirect/AbF9wXFXEVN5zAcCIUrkGQqqfKyPUB37s7sty_MjJAF3pi56oU6Aqlapgr0rHEi21-Ic0D_Ecag0P_hdEzeSFnkT1pB__2ICDzuCZZhtoRKq1_EDjcI7VcgYtGwC48PrUun9N24va9N2748i2lb4Piro5zcfq5LQYzbi6Txp5jOO-tvW25irAEyYha2ydq0YyrdJnHYJZoDLwJHuNulV)\n> \n> A camisa listrada também pode ser combinada com uma saia de tecido natural, como linho, ou uma saia jeans.\n> \n> ![Mulher usando camisa listrada com saia](https://vertexaisearch.cloud.google.com/grounding-api-redirect/AbF9wXG2Q9nDdP2HsZDFDJpAdH44GwTsNMtCwdWR6eE2G-YVjgrUbmn7d1oAvnHUAS1dnV19wSlnQHXZM5oY37jkJY3EtDRmlJl1IKJoNfQZ2WrC5eD79jhbUgpuAilWofgyJpdXER8BL0OtxRufd4Zhq7mp)\n> \n> A combinação perfeita para ambientes de trabalho, onde a camisa listrada é combinada com uma calça de alfaiataria. Para um toque mais informal, pode-se adicionar tênis.\n> \n> ![Camisa listrada com calça de alfaiataria](https://vertexaisearch.cloud.google.com/grounding-api-redirect/AbF9wXG2Q9nDdP2HsZDFDJpAdH44GwTsNMtCwdWR6eE2G-YVjgrUbmn7d1oAvnHUAS1dnV19wSlnQHXZM5oY37jkJY3EtDRmlJl1IKJoNfQZ2WrC5eD79jhbUgpuAilWofgyJpdXER8BL0OtxRufd4Zhq7mp)\n> \n> Camisas listradas que incorporam cores vibrantes e até a mistura de listras com outros padrões e texturas são ótimas opções.\n> \n> ![Camisas listradas com cores vibrantes](https://vertexaisearch.cloud.google.com/grounding-api-redirect/AbF9wXEBIEapIHiP3fQ6LIo8iXH1M-1FrzlUTMRUUv8dKOlltMc5L_KRy0sX0-D4qLmDH8CJ2daqkDMYTCS_lNq7kx-zOUJg1Br2-fgf_Cwa_VjJo50A7ZnAyTBHYdnpXi4N4dGiVv4yiD0bus-I63mLbtuiZ5U5_xJEzmXSXXQJ7qIttmNtFATLdlt3XGZWE1s_Mmkj3B9S0gYsuxkZHg==)\n> \n> Uma bata listrada com amarração e laços combinada com bermuda de alfaiataria e boné, para looks mais românticos.\n> \n> ![Looks românticos com bata listrada](https://vertexaisearch.cloud.google.com/grounding-api-redirect/AbF9wXEB1K8JWhngTv-OXAZxjPmPhbBpxyO9nlBcBRjOZurLr_R6aRjEibhZLsVLxNx9WhpFxTUC925ycxwLcXciD66CciPoKiyyqi3ZtP2lYiBEtseo1gxECcDFj9iDoi5k-l0xF_YGF7mesYWfMKAn6mPuQL5O3bYCmKtE4XIQpPP08_yuPNcnYCQ=)\n> \n"
          },
          "metadata": {}
        },
        {
          "output_type": "stream",
          "name": "stdout",
          "text": [
            "-----------------------------------------------------\n"
          ]
        }
      ]
    },
    {
      "cell_type": "markdown",
      "source": [],
      "metadata": {
        "id": "Dg6y8BBhwpRU"
      }
    }
  ]
}